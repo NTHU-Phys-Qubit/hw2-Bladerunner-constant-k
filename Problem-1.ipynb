{
 "cells": [
  {
   "cell_type": "code",
   "execution_count": 1,
   "metadata": {},
   "outputs": [],
   "source": [
    "import numpy as np\n",
    "import matplotlib.pyplot as plt\n",
    "import pylab\n",
    "from numpy.linalg import matrix_power"
   ]
  },
  {
   "cell_type": "markdown",
   "metadata": {},
   "source": [
    "# 1D Ising model + Transfer matrix\n",
    "\n",
    "* Construct the transfer matrix at temperature $T$ with external field $B$\n",
    "* Find the eivenvalues of the transfer matrix and compare to the exact results.\n",
    "* Evaluate the partition function $Z$ at different system size $N$ and $T$, $B$. Compare to the exact results.\n",
    "* For a fixed $N$, $T$, $B$, evaluate $\\langle S_0 S_j\\rangle$ where $j=0,1,\\cdots N$. \n",
    "* Plot $\\langle S_0 S_j\\rangle$ up to $j=N/2$ and show that it decays exponentially.\n",
    "  * Please try several $N$, $T$, $B$. What is the largest $N$ you can go? What is the lowest $T$ you can go?"
   ]
  },
  {
   "cell_type": "code",
   "execution_count": 2,
   "metadata": {},
   "outputs": [],
   "source": [
    "J = 1.0\n",
    "kB = 1.0"
   ]
  },
  {
   "cell_type": "code",
   "execution_count": 3,
   "metadata": {},
   "outputs": [],
   "source": [
    "def impurity_matrix():\n",
    "    return np.array([[1, 0],\n",
    "                    [0, -1]])\n",
    "\n",
    "def transfer_matrix(T, B):\n",
    "    beta = 1/(kB*T)\n",
    "    return np.array ([[np.exp(beta*J+beta*B), np.exp(-beta*J)],\n",
    "                     [np.exp(-beta*J), np.exp(beta*J-beta*B)]])\n",
    "\n",
    "T = transfer_matrix(1, 0)\n",
    "Tz = impurity_matrix()\n"
   ]
  },
  {
   "cell_type": "code",
   "execution_count": 4,
   "metadata": {},
   "outputs": [
    {
     "name": "stdout",
     "output_type": "stream",
     "text": [
      "[3.08616127 2.35040239]\n",
      "[9.52439138 5.52439138]\n",
      "[29.3938078  12.98454269]\n",
      "[90.7140312  30.51890014]\n",
      "[279.9581297   71.73169575]\n",
      "[863.99593701 168.59834895]\n",
      "[2666.43079792  396.27396185]\n",
      "[8229.03545668  931.40326596]\n",
      "[25396.13051283  2189.17245984]\n",
      "[78376.55438717  5145.4361758 ]\n",
      "[241882.68659677  12093.84547123]\n",
      "[746488.97916913  28425.40326706]\n",
      "[2303785.37571776   66811.1356985 ]\n",
      "[7109853.20008128  157033.05284315]\n",
      "[21942153.57884923   369090.86228559]\n",
      "[67717024.5473285    867512.04384211]\n",
      "[2.08985658e+08 2.03900238e+06]\n",
      "[4.79247606e+06 6.44963445e+08]\n",
      "[1.99046120e+09 1.12642472e+07]\n",
      "[6.14288428e+09 2.64755134e+07]\n",
      "[1.89579315e+10 6.22281100e+07]\n",
      "[5.85072341e+10 1.46261098e+08]\n",
      "[1.80562760e+11 3.43772435e+08]\n",
      "[5.57245796e+11 8.08003551e+08]\n",
      "[1.71975039e+12 1.89913347e+09]\n",
      "[5.30742706e+12 4.46372785e+09]\n",
      "[1.63795758e+13 1.04915566e+10]\n",
      "[5.05500125e+13 2.46593797e+10]\n",
      "[1.56005491e+14 5.79594649e+10]\n",
      "[4.81458104e+14 1.36228065e+11]\n",
      "[1.48585735e+15 3.20190768e+11]\n",
      "[4.58559541e+15 7.52577146e+11]\n",
      "[1.41518870e+16 1.76885912e+12]\n",
      "[4.36750054e+16 4.15753070e+12]\n",
      "[1.34788110e+17 9.77187008e+12]\n",
      "[4.15977845e+17 2.29678268e+13]\n",
      "[1.28377472e+18 5.39836349e+13]\n",
      "[3.96193581e+18 1.26883264e+14]\n",
      "[1.22271728e+19 2.98226727e+14]\n",
      "[3.77350272e+19 7.00952812e+14]\n",
      "[1.16456380e+20 1.64752116e+15]\n",
      "[3.59403168e+20 3.87233767e+15]\n",
      "[1.10917614e+21 9.10155171e+15]\n",
      "[3.42309644e+21 2.13923089e+16]\n",
      "[1.05642277e+22 5.02805338e+16]\n",
      "[3.26029102e+22 1.18179487e+17]\n",
      "[1.00617839e+23 2.77769348e+17]\n",
      "[3.10522877e+23 6.52869738e+17]\n",
      "[9.58323677e+23 1.53450659e+18]\n"
     ]
    }
   ],
   "source": [
    "# Eigenvalue\n",
    "\n",
    "from numpy import linalg as LA\n",
    "\n",
    "T = transfer_matrix(1, 0)\n",
    "\n",
    "for i in range (1,50):\n",
    "    \n",
    "    w_i, v_i = LA.eig(matrix_power(T, i))\n",
    "        \n",
    "    print(w_i)"
   ]
  },
  {
   "cell_type": "code",
   "execution_count": 16,
   "metadata": {},
   "outputs": [
    {
     "data": {
      "image/png": "[encoded data removed]",
      "text/plain": [
       "<Figure size 432x288 with 1 Axes>"
      ]
     },
     "metadata": {
      "needs_background": "light"
     },
     "output_type": "display_data"
    }
   ],
   "source": [
    "# pratition function\n",
    "# T=1, B=0, N=i\n",
    "\n",
    "T = transfer_matrix(1, 0)\n",
    "\n",
    "z_f = np.array([])\n",
    "\n",
    "for i in range (1,50):\n",
    "    \n",
    "    z = np.trace(matrix_power(T, i))\n",
    "    z_f = np.append(z_f, z)\n",
    "    \n",
    "pylab.plot(z_f) \n",
    "pylab.show()"
   ]
  },
  {
   "cell_type": "code",
   "execution_count": 6,
   "metadata": {},
   "outputs": [
    {
     "data": {
      "image/png": "[encoded data removed]",
      "text/plain": [
       "<Figure size 432x288 with 1 Axes>"
      ]
     },
     "metadata": {
      "needs_background": "light"
     },
     "output_type": "display_data"
    }
   ],
   "source": [
    "# pratition function\n",
    "# T=i, B=0, N=2\n",
    "\n",
    "T = transfer_matrix(1, 0)\n",
    "\n",
    "z_f = np.array([])\n",
    "\n",
    "for i in range (1,50):\n",
    "    \n",
    "    z = np.trace(transfer_matrix(i, 0))\n",
    "    z_f = np.append(z_f, z)\n",
    "    \n",
    "    \n",
    "pylab.plot(z_f) \n",
    "pylab.show()"
   ]
  },
  {
   "cell_type": "code",
   "execution_count": 7,
   "metadata": {},
   "outputs": [
    {
     "data": {
      "image/png": "[encoded data removed]",
      "text/plain": [
       "<Figure size 432x288 with 1 Axes>"
      ]
     },
     "metadata": {
      "needs_background": "light"
     },
     "output_type": "display_data"
    }
   ],
   "source": [
    "# pratition function\n",
    "# T=1, B=i, N=2\n",
    "\n",
    "T = transfer_matrix(1, 0)\n",
    "\n",
    "z_f = np.array([])\n",
    "\n",
    "for i in range (1,50):\n",
    "    \n",
    "    z = np.trace(transfer_matrix(1, i)) \n",
    "    z_f = np.append(z_f, z)\n",
    "       \n",
    "\n",
    "pylab.plot(z_f) \n",
    "pylab.show()"
   ]
  },
  {
   "cell_type": "code",
   "execution_count": 29,
   "metadata": {},
   "outputs": [
    {
     "data": {
      "text/plain": [
       "array([[ 6.56122739e+11, -6.53629110e+11],\n",
       "       [-6.53629110e+11,  6.56122739e+11]])"
      ]
     },
     "execution_count": 29,
     "metadata": {},
     "output_type": "execute_result"
    },
    {
     "data": {
      "image/png": "[encoded data removed]",
      "text/plain": [
       "<Figure size 432x288 with 1 Axes>"
      ]
     },
     "metadata": {
      "needs_background": "light"
     },
     "output_type": "display_data"
    }
   ],
   "source": [
    "# T=1, B=0, N=?(this type of way has problem, so I write in another way) \n",
    "\n",
    "import warnings; warnings.simplefilter(\"always\")\n",
    "np.seterr(invalid='ignore')\n",
    "\n",
    "Z = T@T\n",
    "Z_Sz = Tz@T@T\n",
    "Z_SzSz = Tz@T@Tz@T\n",
    "\n",
    "N = 25 #25\n",
    "T = transfer_matrix(1, 0)\n",
    "Tz = impurity_matrix()\n",
    "\n",
    "SzSz = np.zeros(N+1)\n",
    "\n",
    "for j in range(N):\n",
    "    z = np.eye(2)\n",
    "    Z_SzSz = Tz\n",
    "    for i in range(N):\n",
    "        Z = Z @ T\n",
    "        if i == j: \n",
    "            Z_SzSz = Z_SzSz @ Tz @ T\n",
    "        else:\n",
    "            Z_SzSz = Z_SzSz @ T\n",
    "    SzSz[j] = np.trace(Z_SzSz)/np.trace(Z)\n",
    "    \n",
    "    SzSz[N] = SzSz[0]\n",
    "\n",
    "plt.plot(SzSz[0:N//2], 'o') \n",
    "\n",
    "\n",
    "Z_SzSz\n"
   ]
  },
  {
   "cell_type": "code",
   "execution_count": 44,
   "metadata": {},
   "outputs": [
    {
     "data": {
      "text/plain": [
       "[<matplotlib.lines.Line2D at 0x1e1f9817208>]"
      ]
     },
     "execution_count": 44,
     "metadata": {},
     "output_type": "execute_result"
    },
    {
     "data": {
      "image/png": "[encoded data removed]",
      "text/plain": [
       "<Figure size 432x288 with 1 Axes>"
      ]
     },
     "metadata": {
      "needs_background": "light"
     },
     "output_type": "display_data"
    }
   ],
   "source": [
    "SzSz = np.zeros(N+1)\n",
    "z0     = impurity_matrix()\n",
    "T      = transfer_matrix(1,0)\n",
    "\n",
    "N = 476\n",
    "\n",
    "for j in range(N):\n",
    "    z_s0sj = z0\n",
    "    z = np.eye(2)\n",
    "    for i in range(N):\n",
    "        z = z.dot(T)\n",
    "        if i==j:\n",
    "            z_s0sj = z_s0sj.dot(z0).dot(T)\n",
    "        else :\n",
    "            z_s0sj = z_s0sj.dot(T)    \n",
    "    SzSz[j] = np.trace(z_s0sj)/np.trace(z)\n",
    "    \n",
    "SzSz[N]=SzSz[0]\n",
    "\n",
    "plt.subplot()\n",
    "plt.plot(SzSz[0:N//2],'o')\n"
   ]
  },
  {
   "cell_type": "code",
   "execution_count": 34,
   "metadata": {},
   "outputs": [
    {
     "data": {
      "text/plain": [
       "[<matplotlib.lines.Line2D at 0x1e1f93bc108>]"
      ]
     },
     "execution_count": 34,
     "metadata": {},
     "output_type": "execute_result"
    },
    {
     "data": {
      "image/png": "[encoded data removed]",
      "text/plain": [
       "<Figure size 432x288 with 1 Axes>"
      ]
     },
     "metadata": {
      "needs_background": "light"
     },
     "output_type": "display_data"
    }
   ],
   "source": [
    "# T=?, B=0, N=10 (use another metod below)\n",
    "\n",
    "import warnings; warnings.simplefilter(\"always\")\n",
    "np.seterr(invalid='ignore')\n",
    "\n",
    "Z = T@T\n",
    "Z_Sz = Tz@T@T\n",
    "Z_SzSz = Tz@T@Tz@T\n",
    "\n",
    "N = 10\n",
    "t = 1 #10^308\n",
    "T = transfer_matrix(t, 0)\n",
    "Tz = impurity_matrix()\n",
    "\n",
    "SzSz = np.zeros(N+1)\n",
    "\n",
    "for j in range(0, N):\n",
    "    z = np.eye(2)\n",
    "    Z_SzSz = Tz\n",
    "    for i in range(N):\n",
    "        Z = Z @ T\n",
    "        if i == j: \n",
    "            Z_SzSz = Z_SzSz @ Tz @ T\n",
    "        else:\n",
    "            Z_SzSz = Z_SzSz @ T\n",
    "    SzSz[j] = np.trace(Z_SzSz)/np.trace(Z)\n",
    "    \n",
    "    SzSz[N] = SzSz[0]\n",
    "\n",
    "pylab.semilogy(SzSz[0:N//2], 'o') "
   ]
  },
  {
   "cell_type": "code",
   "execution_count": 58,
   "metadata": {},
   "outputs": [
    {
     "data": {
      "text/plain": [
       "[<matplotlib.lines.Line2D at 0x1e1f9ab2fc8>]"
      ]
     },
     "execution_count": 58,
     "metadata": {},
     "output_type": "execute_result"
    },
    {
     "data": {
      "image/png": "[encoded data removed]",
      "text/plain": [
       "<Figure size 432x288 with 1 Axes>"
      ]
     },
     "metadata": {
      "needs_background": "light"
     },
     "output_type": "display_data"
    }
   ],
   "source": [
    "t = -273\n",
    "N = 32\n",
    "\n",
    "for j in range(N):\n",
    "    z_s0sj = z0\n",
    "    z = np.eye(2)\n",
    "    for i in range(N):\n",
    "        z = z.dot(T)\n",
    "        if i==j:\n",
    "            z_s0sj = z_s0sj.dot(z0).dot(T)\n",
    "        else :\n",
    "            z_s0sj = z_s0sj.dot(T)    \n",
    "    SzSz[j] = np.trace(z_s0sj)/np.trace(z)\n",
    "    \n",
    "SzSz[N]=SzSz[0]\n",
    "plt.plot(SzSz[0:N//2],'.')"
   ]
  }
 ],
 "metadata": {
  "kernelspec": {
   "display_name": "Python 3",
   "language": "python",
   "name": "python3"
  },
  "language_info": {
   "codemirror_mode": {
    "name": "ipython",
    "version": 3
   },
   "file_extension": ".py",
   "mimetype": "text/x-python",
   "name": "python",
   "nbconvert_exporter": "python",
   "pygments_lexer": "ipython3",
   "version": "3.7.4"
  }
 },
 "nbformat": 4,
 "nbformat_minor": 4
}
